{
 "cells": [
  {
   "cell_type": "markdown",
   "id": "400e1019",
   "metadata": {},
   "source": [
    "Yi Zheng - Trabajo de Fin de Grado 2023/2024.\n",
    "\n",
    "This script writes the CDS loci of the selected genes that identify a T6SS cluster (hcp, vgrG, tssB) in a single multifasta file."
   ]
  },
  {
   "cell_type": "code",
   "execution_count": 1,
   "id": "136de1d6",
   "metadata": {},
   "outputs": [],
   "source": [
    "# Packages\n",
    "import sys, os\n",
    "import re\n",
    "from Bio import SeqIO,Seq"
   ]
  },
  {
   "cell_type": "markdown",
   "id": "f7140383",
   "metadata": {},
   "source": [
    "In order to use the Bio package, installing Biopython in the terminal is compulsory"
   ]
  },
  {
   "cell_type": "code",
   "execution_count": 2,
   "id": "0a1ef2c2",
   "metadata": {},
   "outputs": [],
   "source": [
    "project_directory = 'Bradyrhizobium valentinum LmjM3/'\n",
    "genes = [\"tssB\", \"tssC\"]"
   ]
  },
  {
   "cell_type": "code",
   "execution_count": 3,
   "id": "f696287d",
   "metadata": {},
   "outputs": [],
   "source": [
    "directory = project_directory + 'ncbi_dataset/data/'\n",
    "assembly = 'GCF_001440405.1'\n",
    "multifasta_file = open('T6SS_genes.fasta', 'w')"
   ]
  },
  {
   "cell_type": "code",
   "execution_count": 4,
   "id": "4f7a00f7",
   "metadata": {},
   "outputs": [],
   "source": [
    "for filename in os.listdir(directory+'/'+assembly):\n",
    "    if filename.endswith(\"genomic.gbff\"):\n",
    "        genome_path = os.path.join(directory,assembly,filename)\n",
    "        records = SeqIO.parse(genome_path,\"genbank\")\n",
    "        assemblyAccn = assembly[:15]\n",
    "            \n",
    "        for record in records:\n",
    "            contig = record.id\n",
    "                \n",
    "            for feature in record.features:\n",
    "                if feature.type == \"CDS\":\n",
    "                    if \"gene\" in feature.qualifiers:\n",
    "                        gene_name = feature.qualifiers[\"gene\"][0]\n",
    "                        if gene_name in genes:\n",
    "                            locus = feature.qualifiers[\"locus_tag\"][0]\n",
    "                            try:\n",
    "                                protein = feature.qualifiers[\"translation\"][0]\n",
    "                                multifasta_file.write(\">\"+assemblyAccn + \"!\" + contig+\"@\"+locus+\"\\n\"+protein+\"\\n\")\n",
    "                            except:\n",
    "                                continue\n",
    "multifasta_file.close()"
   ]
  },
  {
   "cell_type": "code",
   "execution_count": null,
   "id": "2195fe61",
   "metadata": {},
   "outputs": [],
   "source": []
  }
 ],
 "metadata": {
  "kernelspec": {
   "display_name": "Python 3 (ipykernel)",
   "language": "python",
   "name": "python3"
  },
  "language_info": {
   "codemirror_mode": {
    "name": "ipython",
    "version": 3
   },
   "file_extension": ".py",
   "mimetype": "text/x-python",
   "name": "python",
   "nbconvert_exporter": "python",
   "pygments_lexer": "ipython3",
   "version": "3.10.12"
  }
 },
 "nbformat": 4,
 "nbformat_minor": 5
}
